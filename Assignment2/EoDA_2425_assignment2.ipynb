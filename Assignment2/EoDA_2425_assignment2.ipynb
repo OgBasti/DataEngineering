{
  "cells": [
    {
      "cell_type": "markdown",
      "metadata": {
        "id": "view-in-github",
        "colab_type": "text"
      },
      "source": [
        "<a href=\"https://colab.research.google.com/github/OgBasti/DataEngineering/blob/main/EoDA_2425_assignment2.ipynb\" target=\"_parent\"><img src=\"https://colab.research.google.com/assets/colab-badge.svg\" alt=\"Open In Colab\"/></a>"
      ]
    },
    {
      "cell_type": "markdown",
      "metadata": {
        "id": "pVCR4GznXPBd"
      },
      "source": [
        "# Engineering of Data Analysis: assignment 2\n",
        "\n",
        "By delivering this notebook, we confirm that the code presented was developed by the following students.\n",
        "\n",
        "**Student num:** 52255     **; Name:** Bastien Gobet\n",
        "\n",
        "**Student num**: 56466     **; Name**:Tomas Oliveira\n",
        "\n",
        "**DEADLINE:** 13th May, 23h59\n",
        "\n",
        "**Only one student should deliver the notebook in a ZIP file that includes the dataset for exercise 4**\n",
        "**The notebook shoud have all outputs present**\n"
      ]
    },
    {
      "cell_type": "markdown",
      "metadata": {
        "id": "xyM6HefJXPBe"
      },
      "source": [
        "Some useful links:\n",
        "* [ACM DEBS 2015 Grand Challenge](http://www.debs2015.org/call-grand-challenge.html)\n",
        "\n",
        "* [Spark web site](https://spark.apache.org/)\n",
        "\n",
        "* [Anonymity_api](https://github.com/farosilva0/anonymity_api)\n",
        "\n",
        "* [IBM differential privacy library](https://github.com/IBM/differential-privacy-library)\n"
      ]
    },
    {
      "cell_type": "markdown",
      "metadata": {
        "id": "MhyO9-O2wuoa"
      },
      "source": [
        "# Install software"
      ]
    },
    {
      "cell_type": "code",
      "execution_count": null,
      "metadata": {
        "colab": {
          "base_uri": "https://localhost:8080/"
        },
        "id": "uDH5ObnQwtRy",
        "outputId": "ba2882ea-cf29-45ae-fef7-5053bfdb6f7a"
      },
      "outputs": [
        {
          "output_type": "stream",
          "name": "stdout",
          "text": [
            "Reading package lists... Done\n",
            "Building dependency tree... Done\n",
            "Reading state information... Done\n",
            "openjdk-17-jdk-headless is already the newest version (17.0.15+6~us1-0ubuntu1~22.04).\n",
            "0 upgraded, 0 newly installed, 0 to remove and 34 not upgraded.\n",
            "Requirement already satisfied: pyspark==4.0.0.dev2 in /usr/local/lib/python3.11/dist-packages (4.0.0.dev2)\n",
            "Requirement already satisfied: py4j==0.10.9.7 in /usr/local/lib/python3.11/dist-packages (from pyspark==4.0.0.dev2) (0.10.9.7)\n",
            "mkdir: cannot create directory ‘checkpoint’: File exists\n"
          ]
        }
      ],
      "source": [
        "# Install Spark\n",
        "!apt-get install openjdk-17-jdk-headless\n",
        "!pip install pyspark==4.0.0.dev2\n",
        "!mkdir checkpoint\n"
      ]
    },
    {
      "cell_type": "code",
      "execution_count": null,
      "metadata": {
        "colab": {
          "base_uri": "https://localhost:8080/"
        },
        "id": "TEdQIWsufh18",
        "outputId": "dd98dfc8-9aa0-4784-ff27-a3859fbb599a"
      },
      "outputs": [
        {
          "output_type": "stream",
          "name": "stdout",
          "text": [
            "Requirement already satisfied: anonymity-api==1.0.4 in /usr/local/lib/python3.11/dist-packages (1.0.4)\n",
            "Requirement already satisfied: diffprivlib in /usr/local/lib/python3.11/dist-packages (0.6.6)\n",
            "Requirement already satisfied: numpy>=2.0.0 in /usr/local/lib/python3.11/dist-packages (from diffprivlib) (2.0.2)\n",
            "Requirement already satisfied: scikit-learn>=1.4.0 in /usr/local/lib/python3.11/dist-packages (from diffprivlib) (1.6.1)\n",
            "Requirement already satisfied: scipy>=1.13.0 in /usr/local/lib/python3.11/dist-packages (from diffprivlib) (1.15.2)\n",
            "Requirement already satisfied: joblib>=0.16.0 in /usr/local/lib/python3.11/dist-packages (from diffprivlib) (1.4.2)\n",
            "Requirement already satisfied: setuptools>=49.0.0 in /usr/local/lib/python3.11/dist-packages (from diffprivlib) (75.2.0)\n",
            "Requirement already satisfied: threadpoolctl>=3.1.0 in /usr/local/lib/python3.11/dist-packages (from scikit-learn>=1.4.0->diffprivlib) (3.6.0)\n"
          ]
        }
      ],
      "source": [
        "!pip install anonymity-api==1.0.4\n",
        "!pip install diffprivlib\n"
      ]
    },
    {
      "cell_type": "markdown",
      "metadata": {
        "id": "bc9cRxyLxzDv"
      },
      "source": [
        "# Setup\n",
        "\n",
        "The data sets are available in the following link: https://drive.google.com/drive/folders/1WMwLUj0t4Q0GSll96lbF2bDjaPVh1w8z?usp=sharing (the same as in assignment 1). For running in Google Colab, you should access the link and Add Shortcut to your Drive.\n",
        "\n"
      ]
    },
    {
      "cell_type": "code",
      "execution_count": null,
      "metadata": {
        "colab": {
          "base_uri": "https://localhost:8080/"
        },
        "id": "Zoe8_ojZxyOL",
        "outputId": "b2387807-c4b8-45fa-f46f-f8c380a386db"
      },
      "outputs": [
        {
          "output_type": "stream",
          "name": "stdout",
          "text": [
            "Mounted at /content/drive\n",
            "adult.csv  Life_Expectancy_Data.csv  sample.csv.gz    sorted_data.csv.gz\n",
            "heart.csv  sample.csv\t\t     sorted_data.csv  tiny.csv.gz\n"
          ]
        }
      ],
      "source": [
        "from google.colab import drive\n",
        "drive.mount('/content/drive', force_remount=True)\n",
        "\n",
        "# If you added the shortcut to your drive, the file should appear in this directory\n",
        "# If not, you need to explore from directory /content/drive\n",
        "!ls /content/drive/MyDrive/assignment1\n"
      ]
    },
    {
      "cell_type": "code",
      "execution_count": null,
      "metadata": {
        "colab": {
          "base_uri": "https://localhost:8080/"
        },
        "id": "b-NC3KtagnWM",
        "outputId": "08d4c395-9446-4b7b-8482-1a0b80171b0e"
      },
      "outputs": [
        {
          "output_type": "stream",
          "name": "stdout",
          "text": [
            "mkdir: cannot create directory ‘data’: File exists\n"
          ]
        }
      ],
      "source": [
        "# Run this cell only if you are going to run exercise 1\n",
        "!mkdir data\n",
        "!cp /content/drive/MyDrive/assignment1/sample.csv data"
      ]
    },
    {
      "cell_type": "markdown",
      "metadata": {
        "id": "6G8r7sp9XPBe"
      },
      "source": [
        "Next cells setup: Pandas and Spark."
      ]
    },
    {
      "cell_type": "code",
      "execution_count": null,
      "metadata": {
        "id": "WPGlacioYpf-"
      },
      "outputs": [],
      "source": [
        "# General imports\n",
        "import timeit\n",
        "\n",
        "import os\n",
        "import time\n",
        "import pandas as pd\n",
        "import numpy as np\n",
        "import matplotlib.pyplot as plt\n",
        "import seaborn as sns\n",
        "import sklearn.cluster\n",
        "\n",
        "from anonymity_api import anonymity\n",
        "from anonymity_api import utility"
      ]
    },
    {
      "cell_type": "code",
      "execution_count": null,
      "metadata": {
        "colab": {
          "base_uri": "https://localhost:8080/"
        },
        "id": "9tmUtWFKZt6e",
        "outputId": "3d7f0d49-5027-467b-95ce-20d0ec9757a8"
      },
      "outputs": [
        {
          "output_type": "stream",
          "name": "stderr",
          "text": [
            "/usr/local/lib/python3.11/dist-packages/pyspark/pandas/utils.py:1017: PandasAPIOnSparkAdviceWarning: The config 'spark.sql.ansi.enabled' is set to True. This can cause unexpected behavior from pandas API on Spark since pandas API on Spark follows the behavior of pandas, not SQL.\n",
            "  warnings.warn(message, PandasAPIOnSparkAdviceWarning)\n"
          ]
        }
      ],
      "source": [
        "# Imports for Spark\n",
        "\n",
        "import os\n",
        "os.environ[\"PYARROW_IGNORE_TIMEZONE\"] = \"1\"\n",
        "\n",
        "# imports Spark SQL and Pandas API\n",
        "import pyspark\n",
        "from pyspark.sql import SparkSession\n",
        "from pyspark.sql.types import *\n",
        "from pyspark.sql.functions import *\n",
        "from pyspark.ml.linalg import Vectors\n",
        "from pyspark.ml.clustering import KMeans\n",
        "from pyspark.ml.evaluation import *\n",
        "from pyspark.ml.feature import *\n",
        "import pyspark.pandas as ps\n",
        "\n",
        "# this sets the maximum number of rows to show when printing pandas Dataframes\n",
        "ps.set_option('display.max_rows', 10)\n",
        "\n"
      ]
    },
    {
      "cell_type": "code",
      "execution_count": null,
      "metadata": {
        "id": "b-KW2JrJbXai"
      },
      "outputs": [],
      "source": [
        "FILENAME_LOCAL = \"data/sample.csv\"\n",
        "FILENAME_RMT = \"/content/drive/MyDrive/assignment1/sample.csv\"\n"
      ]
    },
    {
      "cell_type": "markdown",
      "metadata": {
        "id": "RAm-BRKXXPBg"
      },
      "source": [
        "## Exercise 1: local data files vs. remote data files\n",
        "\n",
        "Compute the number of distinct licenses, accessing local file and remote file.\n",
        "\n",
        "Compare the time it takes to execute the code for Pandas, Spark SQL and cuDF for accessing a local file and a remote file.\n"
      ]
    },
    {
      "cell_type": "markdown",
      "metadata": {
        "id": "I--Vmbx8XPBg"
      },
      "source": [
        "### Code: Pandas library"
      ]
    },
    {
      "cell_type": "code",
      "execution_count": null,
      "metadata": {
        "colab": {
          "base_uri": "https://localhost:8080/"
        },
        "id": "khxF5l8VXPBg",
        "outputId": "1587a83a-0b3e-44b9-df6f-de3319d758d5"
      },
      "outputs": [
        {
          "output_type": "stream",
          "name": "stdout",
          "text": [
            "Local file\n",
            "Runtime = 15.729122161865234\n",
            "Remote file\n",
            "Runtime = 14.435165405273438\n"
          ]
        }
      ],
      "source": [
        "mySchema = [\"medallion\", \"hack_license\", \"pickup_datetime\",\n",
        "            \"dropoff_datetime\", \"trip_time_in_secs\", \"trip_distance\",\n",
        "            \"pickup_longitude\", \"pickup_latitude\", \"dropoff_longitude\",\n",
        "            \"dropoff_latitude\", \"payment_type\", \"fare_amount\",\n",
        "            \"surcharge\", \"mta_tax\", \"tip_amount\",\n",
        "            \"tolls_amount\", \"total_amount\"]\n",
        "\n",
        "print( \"Local file\")\n",
        "start_time = time.time()\n",
        "\n",
        "dataset = pd.read_csv(FILENAME_LOCAL,names=mySchema)\n",
        "result = dataset[\"hack_license\"].nunique()\n",
        "\n",
        "end_time = time.time()\n",
        "\n",
        "print( \"Runtime = \" + str(end_time - start_time))\n",
        "\n",
        "\n",
        "print( \"Remote file\")\n",
        "start_time = time.time()\n",
        "\n",
        "dataset = pd.read_csv(FILENAME_RMT,names=mySchema)\n",
        "result = dataset[\"hack_license\"].nunique()\n",
        "\n",
        "end_time = time.time()\n",
        "\n",
        "print( \"Runtime = \" + str(end_time - start_time))\n",
        "\n",
        "\n"
      ]
    },
    {
      "cell_type": "markdown",
      "metadata": {
        "id": "C6cgoZCdXPBg"
      },
      "source": [
        "### Results (Pandas)\n",
        "\n",
        "The time to process the small dataset, local file, was : (7.0721, 7.1276, 7.9830) or an average of approximately **7.39** seconds.\n",
        "\n",
        "The time to process the small dataset, remote file, was : (9.0981, 11.4112, 12.2345) or an average of approximately **10.91** seconds.\n",
        "\n"
      ]
    },
    {
      "cell_type": "markdown",
      "metadata": {
        "id": "pPo82rOWXPBg"
      },
      "source": [
        "### Spark SQL"
      ]
    },
    {
      "cell_type": "code",
      "execution_count": null,
      "metadata": {
        "colab": {
          "base_uri": "https://localhost:8080/"
        },
        "id": "l2On5zrlXPBg",
        "outputId": "272be5fc-0deb-47fb-9a23-b520310a5118"
      },
      "outputs": [
        {
          "output_type": "stream",
          "name": "stdout",
          "text": [
            "Local file\n",
            "Runtime = 4.231226921081543\n",
            "Remote file\n",
            "Runtime = 5.24066686630249\n"
          ]
        }
      ],
      "source": [
        "spark = SparkSession \\\n",
        "    .builder \\\n",
        "    .master(\"local[*]\") \\\n",
        "    .appName(\"Group project\") \\\n",
        "    .getOrCreate()\n",
        "\n",
        "mySchema = StructType([\n",
        "    StructField(\"medallion\", StringType()),\n",
        "    StructField(\"hack_license\", StringType()),\n",
        "    StructField(\"pickup_datetime\", TimestampType()),\n",
        "    StructField(\"dropoff_datetime\", TimestampType()),\n",
        "    StructField(\"trip_time_in_secs\", IntegerType()),\n",
        "    StructField(\"trip_distance\", DoubleType()),\n",
        "    StructField(\"pickup_longitude\", DoubleType()),\n",
        "    StructField(\"pickup_latitude\", DoubleType()),\n",
        "    StructField(\"dropoff_longitude\", DoubleType()),\n",
        "    StructField(\"dropoff_latitude\", DoubleType()),\n",
        "    StructField(\"payment_type\", StringType()),\n",
        "    StructField(\"fare_amount\", DoubleType()),\n",
        "    StructField(\"surcharge\", DoubleType()),\n",
        "    StructField(\"mta_tax\", DoubleType()),\n",
        "    StructField(\"tip_amount\", DoubleType()),\n",
        "    StructField(\"tolls_amount\", DoubleType()),\n",
        "    StructField(\"total_amount\", DoubleType()),\n",
        "])\n",
        "\n",
        "print( \"Local file\")\n",
        "\n",
        "start_time = time.time()\n",
        "dataset = spark.read.load(FILENAME_LOCAL, format=\"csv\",\n",
        "                         sep=\",\", schema=mySchema, header=\"false\")\n",
        "dataset.createOrReplaceTempView(\"data\")\n",
        "statisticsDF = spark.sql( \"\"\"SELECT COUNT(DISTINCT hack_license) AS total_amount FROM data\"\"\")\n",
        "statistics = statisticsDF.collect()\n",
        "\n",
        "end_time = time.time()\n",
        "\n",
        "print( \"Runtime = \" + str(end_time - start_time))\n",
        "\n",
        "print( \"Remote file\")\n",
        "\n",
        "start_time = time.time()\n",
        "\n",
        "dataset = spark.read.load(FILENAME_RMT, format=\"csv\",\n",
        "                         sep=\",\", schema=mySchema, header=\"false\")\n",
        "dataset.createOrReplaceTempView(\"data\")\n",
        "statisticsDF = spark.sql( \"\"\"SELECT COUNT(DISTINCT hack_license) AS total_amount FROM data\"\"\")\n",
        "statistics = statisticsDF.collect()\n",
        "\n",
        "end_time = time.time()\n",
        "\n",
        "print( \"Runtime = \" + str(end_time - start_time))\n"
      ]
    },
    {
      "cell_type": "markdown",
      "metadata": {
        "id": "Jkrh7oezXPBg"
      },
      "source": [
        "### Results (Spark)\n",
        "\n",
        "The time to process the small dataset, local file, was : (5.2903, 4.7756, 4.4206) or an average of approximately **4.83** seconds.\n",
        "\n",
        "The time to process the small dataset, remote file, was : (10.1260, 8.9522, 8.3068) or an average of approximately **9.13** seconds.\n",
        "\n"
      ]
    },
    {
      "cell_type": "markdown",
      "metadata": {
        "id": "OAe85kD0XPBg"
      },
      "source": [
        "### Results discussion\n",
        "\n",
        "For Pandas, the average time to process the local file was approximately *7.39* seconds, while the remote file took *10.91* seconds. Similarly, in Spark, the local file averaged *4.83* seconds, compared to *9.13* seconds for the remote file. These results support the typical expectation that remote file access incurs additional overhead due to network latency, transfer time and and HTTP request handling.In contrast, local file access avoids these network-related delays and benefits from faster, direct disk I/O.\n",
        "\n",
        "Remote files, such as those retrieved from GitHub, require initiating a web request, downloading the content, and then parsing it — all of which add time, especially in environments like Colab where the physical storage and compute resources are virtualized and shared. These delays are reflected in the higher average processing times for remote datasets. These results also confirm the broader principle that data locality matters — bringing computation closer to the data, or minimizing data transfer costs, often leads to better performance.\n",
        "\n",
        "Additionally, as seen in Assignment 1, Spark's SQL APIs yield shorter computation times compared to Pandas. This is due to Spark's ability to optimize execution plans and leverage parallelism, allowing it to process data more efficiently across available resources.\n",
        "\n",
        "Overall, the observed behavior underscores the importance of considering both data placement and tool selection when designing data pipelines. Validating assumptions through measurement remains a critical part of effective data engineering.\n",
        "\n"
      ]
    },
    {
      "cell_type": "markdown",
      "metadata": {
        "id": "Q9hnnztRd99w"
      },
      "source": [
        "## Exercise 2\n",
        "\n",
        "The goal of this exercise is to compare results obtained with anonymized data and not anonymized. We will use a dataset with information about hear disease.\n",
        "\n",
        "The quasi-identifiers are composed by attributes:\n",
        "\n",
        "    * age - Age of the patient\n",
        "    * sex - Gender of the patient\n",
        "    * cp - Type of chest pain\n",
        "    * trestbps - resting blood pressure\n",
        "    * chol - cholestoral\n",
        "    * fbs - fasting blood sugar > 120 mg/dl\n",
        "    * restecg - resting eletrocardiographic results\n",
        "    * thalach - Maximum heart rate\n",
        "    * exang - Exercise induced angina\n",
        "    * oldpeak - ST depression induced by exercise relative to rest\n",
        "    * slope - Slope of peak exercise ST segment\n",
        "    * ca - Number of major vessels colored by fluoroscopy\n",
        "    * thal - Thalassemia\n",
        "\n",
        "The sensitive-attributes are composed by only one attribute:\n",
        "\n",
        "    * target - 1 if the patient has Hear Disease, otherwise 0"
      ]
    },
    {
      "cell_type": "code",
      "execution_count": null,
      "metadata": {
        "id": "e4lcaYHOeB9I"
      },
      "outputs": [],
      "source": [
        "#Load the dataset\n",
        "df = pd.read_csv('/content/drive/MyDrive/assignment1/heart.csv')\n",
        "\n",
        "# List with the quasi-identifiers\n",
        "qis = ['age', 'sex', 'cp', 'trestbps', 'chol', 'fbs', 'restecg', 'thalach', 'exang', 'oldpeak', 'slope', 'ca', 'thal']\n",
        "\n",
        "# List with the sensitive attributes\n",
        "sas = ['target']\n"
      ]
    },
    {
      "cell_type": "markdown",
      "metadata": {
        "id": "5zQ07nAs83p7"
      },
      "source": [
        "Now, let's anonymize the dataset with library anonimity_lib."
      ]
    },
    {
      "cell_type": "code",
      "execution_count": null,
      "metadata": {
        "colab": {
          "base_uri": "https://localhost:8080/"
        },
        "id": "cplrXLGk9HrK",
        "outputId": "91736791-151c-4b81-c8e4-b10be6980307"
      },
      "outputs": [
        {
          "output_type": "stream",
          "name": "stdout",
          "text": [
            "\u001b[1mQuasi-identifiers\u001b[0;0m\n",
            "The dataframe has 13 quasi_identifiers, and the number of different values per quasi-identifier is: \n",
            "age          41\n",
            "sex           2\n",
            "cp            4\n",
            "trestbps     49\n",
            "chol        152\n",
            "fbs           2\n",
            "restecg       3\n",
            "thalach      91\n",
            "exang         2\n",
            "oldpeak      40\n",
            "slope         3\n",
            "ca            5\n",
            "thal          4\n",
            "dtype: int64\n",
            "\u001b[1m\n",
            "Sensitive attributes\u001b[0;0m\n",
            "The dataframe has 1 different values for sensitive attributes and the nuber of different values per attribute is: \n",
            "target    2\n",
            "dtype: int64\n",
            "\u001b[1m\n",
            "Attempting the following anonymizations: \u001b[0;0m\n",
            "K-anonymization with k = 4.000000\n",
            "Utility for k-anonymization: 0.43113462346474324\n",
            "\n",
            "Distinct l-diversity with l = 2\n",
            "Utility for distinct l-diversity: 0.42370030536360015\n",
            "\n",
            "Entropy l-diversity with l = 1.546032\n",
            "Utility for entropy l-diversity: 0.41509464381280076\n",
            "\n",
            "Recursive (c,l)-diversity with c = 2 and l = 2\n",
            "Utility for recursive (c,l)-anonymization: 0.46423403265167634\n"
          ]
        }
      ],
      "source": [
        "# the library can automatically suggest an anonymization without the need for providing parameters\n",
        "anon_df = anonymity.suggest_anonymity( df, qis, sas)\n",
        "\n",
        "# processing information after generalization is not very simple\n",
        "# the following function generate random value that keep the averahe inside each group\n",
        "# used for anonymity\n",
        "anon_gen_df = utility.generalize_intervals(anon_df, qis)"
      ]
    },
    {
      "cell_type": "markdown",
      "metadata": {
        "id": "2I131Zt9-CXK"
      },
      "source": [
        "Workload-aware anonymization techniques tailor the anonymization perform to the workload that will be run. For knowing more, you can check:\n",
        "\n",
        "Kristen LeFevre, David J. DeWitt, and Raghu Ramakrishnan. 2006. Workload-aware anonymization. In Proceedings of the 12th ACM SIGKDD international conference on Knowledge discovery and data mining (KDD '06). Association for Computing Machinery, New York, NY, USA, 277–286.\n",
        "https://pages.cs.wisc.edu/~lefevre/WorkloadAware.pdf\n",
        "\n",
        "Anonimity_lib supports workload-aware anonymization: https://github.com/farosilva0/anonymity_api\n"
      ]
    },
    {
      "cell_type": "code",
      "execution_count": null,
      "metadata": {
        "colab": {
          "base_uri": "https://localhost:8080/"
        },
        "id": "uVUyTWlKANpJ",
        "outputId": "a4efcbfd-f7ed-4fe0-8c17-d67ddf41a6ab"
      },
      "outputs": [
        {
          "output_type": "stream",
          "name": "stdout",
          "text": [
            "\u001b[1mQuasi-identifiers\u001b[0;0m\n",
            "The dataframe has 13 quasi_identifiers, and the number of different values per quasi-identifier is: \n",
            "age          7\n",
            "sex          2\n",
            "cp           4\n",
            "trestbps    10\n",
            "chol        17\n",
            "fbs          1\n",
            "restecg      2\n",
            "thalach     15\n",
            "exang        2\n",
            "oldpeak      8\n",
            "slope        3\n",
            "ca           2\n",
            "thal         2\n",
            "dtype: int64\n",
            "\u001b[1m\n",
            "Sensitive attributes\u001b[0;0m\n",
            "The dataframe has 1 different values for sensitive attributes and the nuber of different values per attribute is: \n",
            "target    2\n",
            "dtype: int64\n",
            "\u001b[1m\n",
            "Attempting the following anonymizations: \u001b[0;0m\n",
            "K-anonymization with k = 2.000000\n",
            "Utility for k-anonymization: 0.40050894595263686\n",
            "\n",
            "Distinct l-diversity with l = 2\n",
            "Utility for distinct l-diversity: 0.541577472420915\n",
            "\n",
            "Entropy l-diversity with l = 1.482867\n",
            "Utility for entropy l-diversity: 0.541577472420915\n",
            "\n",
            "Recursive (c,l)-diversity with c = 3 and l = 2\n",
            "Utility for recursive (c,l)-anonymization: 0.6478715150866264\n",
            "\u001b[1mQuasi-identifiers\u001b[0;0m\n",
            "The dataframe has 13 quasi_identifiers, and the number of different values per quasi-identifier is: \n",
            "age          20\n",
            "sex           2\n",
            "cp            4\n",
            "trestbps     46\n",
            "chol        125\n",
            "fbs           2\n",
            "restecg       3\n",
            "thalach      78\n",
            "exang         2\n",
            "oldpeak      34\n",
            "slope         3\n",
            "ca            5\n",
            "thal          4\n",
            "dtype: int64\n",
            "\u001b[1m\n",
            "Sensitive attributes\u001b[0;0m\n",
            "The dataframe has 1 different values for sensitive attributes and the nuber of different values per attribute is: \n",
            "target    2\n",
            "dtype: int64\n",
            "\u001b[1m\n",
            "Attempting the following anonymizations: \u001b[0;0m\n",
            "K-anonymization with k = 4.000000\n",
            "Utility for k-anonymization: 0.5003399282297357\n",
            "\n",
            "Distinct l-diversity with l = 2\n",
            "Utility for distinct l-diversity: 0.46818070240138887\n",
            "\n",
            "Entropy l-diversity with l = 1.540011\n",
            "Utility for entropy l-diversity: 0.4259136997054012\n",
            "\n",
            "Recursive (c,l)-diversity with c = 2 and l = 2\n",
            "Utility for recursive (c,l)-anonymization: 0.5020537935101649\n",
            "\u001b[1mQuasi-identifiers\u001b[0;0m\n",
            "The dataframe has 13 quasi_identifiers, and the number of different values per quasi-identifier is: \n",
            "age         14\n",
            "sex          2\n",
            "cp           4\n",
            "trestbps    28\n",
            "chol        62\n",
            "fbs          2\n",
            "restecg      3\n",
            "thalach     51\n",
            "exang        2\n",
            "oldpeak     27\n",
            "slope        3\n",
            "ca           4\n",
            "thal         3\n",
            "dtype: int64\n",
            "\u001b[1m\n",
            "Sensitive attributes\u001b[0;0m\n",
            "The dataframe has 1 different values for sensitive attributes and the nuber of different values per attribute is: \n",
            "target    2\n",
            "dtype: int64\n",
            "\u001b[1m\n",
            "Attempting the following anonymizations: \u001b[0;0m\n",
            "K-anonymization with k = 3.000000\n",
            "Utility for k-anonymization: 0.49032933270776846\n",
            "\n",
            "Distinct l-diversity with l = 2\n",
            "Utility for distinct l-diversity: 0.4653690747256108\n",
            "\n",
            "Entropy l-diversity with l = 1.543518\n",
            "Utility for entropy l-diversity: 0.4653690747256108\n",
            "\n",
            "Recursive (c,l)-diversity with c = 2 and l = 2\n",
            "Utility for recursive (c,l)-anonymization: 0.40863332593845914\n"
          ]
        }
      ],
      "source": [
        "# for queries based on intervals, you can do the following\n",
        "\n",
        "anon_groups_df = anonymity.suggest_anonymity_groups( df, qis, sas, queries=['group(age, 20)'])\n",
        "anon_groups_gen_df = utility.generalize_intervals(anon_groups_df, qis)"
      ]
    },
    {
      "cell_type": "markdown",
      "metadata": {
        "id": "RZkC_dv5Ad8L"
      },
      "source": [
        "Propose and compte some statistics based on groups/bins, using the original dataset, the anonymized dataset, the workload-aware anonymized dataset and a  and compare the quality of results.\n"
      ]
    },
    {
      "cell_type": "code",
      "execution_count": null,
      "metadata": {
        "colab": {
          "base_uri": "https://localhost:8080/"
        },
        "id": "9jpsiNmUPN4G",
        "outputId": "fff7b8cc-31c2-42a3-e002-01b3079f3e15"
      },
      "outputs": [
        {
          "output_type": "stream",
          "name": "stdout",
          "text": [
            "\n",
            "Original Dataset Statistics (Grouped by Age Bin):\n",
            "                chol  thalach  count   oldpeak\n",
            "age_bin                                      \n",
            "20–40    212.894737      202     19  1.460643\n",
            "40–60    244.004878      195    205  1.237010\n",
            "60–80    260.151899      179     79  1.510477\n",
            "\n",
            "Original Global Statistics:\n",
            "                     Value\n",
            "chol_mean      246.264026\n",
            "chol_std        51.830751\n",
            "thalach_mean   149.646865\n",
            "thalach_std     22.905161\n",
            "total_records  303.000000\n",
            "age_mean        54.366337\n",
            "age_std          9.082101\n",
            "age_IQR         13.500000\n",
            "\n",
            "Anonymized Dataset Statistics (Grouped by Age Bin):\n",
            "                chol thalach  count   oldpeak\n",
            "age_bin                                     \n",
            "20–40    208.956522     198     23  0.565217\n",
            "40–60    244.735135     200    185  0.909518\n",
            "60–80    255.547368     184     95  1.796865\n",
            "\n",
            "Anonymized Global Statistics:\n",
            "                     Value\n",
            "chol_mean      245.409241\n",
            "chol_std        53.277024\n",
            "thalach_mean   150.234323\n",
            "thalach_std     22.669988\n",
            "total_records  303.000000\n",
            "age_mean        54.379538\n",
            "age_std          8.931556\n",
            "age_IQR         15.000000\n",
            "\n",
            "Workload-aware Dataset Statistics (Grouped by Age Bin):\n",
            "                chol thalach  count   oldpeak\n",
            "age_bin                                     \n",
            "20–40    216.526316     190     19   1.02924\n",
            "40–60     241.64878     194    205  1.028551\n",
            "60–80    261.822785     176     79  1.447257\n",
            "\n",
            "Workload-aware Global Statistics:\n",
            "                     Value\n",
            "chol_mean      245.333333\n",
            "chol_std        54.042335\n",
            "thalach_mean   149.471947\n",
            "thalach_std     22.726528\n",
            "total_records  303.000000\n",
            "age_mean        54.264026\n",
            "age_std          8.798118\n",
            "age_IQR         13.000000\n"
          ]
        }
      ],
      "source": [
        "bins = [20, 40, 60, 80]\n",
        "labels = [\"20–40\", \"40–60\", \"60–80\"]\n",
        "\n",
        "datasets = {\n",
        "    \"Original\": df.copy(),\n",
        "    \"Anonymized\": anon_gen_df.copy(),\n",
        "    \"Workload-aware\": anon_groups_gen_df.copy()\n",
        "}\n",
        "\n",
        "for name, data in datasets.items():\n",
        "    # Age binning\n",
        "    data[\"age_bin\"] = pd.cut(data[\"age\"], bins=bins, labels=labels, include_lowest=True)\n",
        "\n",
        "    # Grouped stats by age bin\n",
        "    grouped_stats = data.groupby(\"age_bin\", observed=True).agg({\n",
        "        \"chol\": \"mean\",\n",
        "        \"thalach\": \"max\",\n",
        "        \"target\": \"size\",\n",
        "        \"oldpeak\": \"var\"\n",
        "\n",
        "    }).rename(columns={\"target\": \"count\"})\n",
        "\n",
        "    # Global stats\n",
        "    global_stats = {\n",
        "        \"chol_mean\": data[\"chol\"].mean(),\n",
        "        \"chol_std\": data[\"chol\"].std(),\n",
        "        \"thalach_mean\": data[\"thalach\"].mean(),\n",
        "        \"thalach_std\": data[\"thalach\"].std(),\n",
        "        \"total_records\": len(data),\n",
        "        \"age_mean\": data[\"age\"].mean(),\n",
        "        \"age_std\": data[\"age\"].std(),\n",
        "        \"age_IQR\": data[\"age\"].quantile(0.75) - data[\"age\"].quantile(0.25)\n",
        "\n",
        "        }\n",
        "      # Convert global stats dict to a one-row DataFrame for a neater print\n",
        "    global_stats_df = pd.DataFrame([global_stats])\n",
        "\n",
        "\n",
        "    print(f\"\\n{name} Dataset Statistics (Grouped by Age Bin):\\n\", grouped_stats)\n",
        "    print(f\"\\n{name} Global Statistics:\\n\", global_stats_df.T.rename(columns={0: \"Value\"}))\n"
      ]
    },
    {
      "cell_type": "markdown",
      "metadata": {
        "id": "YYOmUjCfIMKA"
      },
      "source": [
        "We computed four summary statistics per age bin ([20–40], [40–60], [60–80]) across three versions of the dataset — the original, a general anonymized version, and a workload-aware anonymized version:\n",
        "\n",
        "\n",
        "*   Average cholesterol level (chol)\n",
        "*   Maximum recorded heart rate (thalach)\n",
        "*   Number of records per group (count)\n",
        "*   Variance in ST depression (oldpeak)\n",
        "\n",
        "**The results show that the workload-aware anonymized dataset consistently preserved key statistical properties of the original data more accurately than the general anonymized version.**\n",
        "\n",
        "For instance, in the 60–80 age group, the average cholesterol in the original data was 260.15, and the workload-aware version closely matched this with 261.82, while the general anonymized version was slightly lower at 255.55. However, differences emerged in other metrics: the record count was 179 in the original dataset, 176 in the workload-aware version, and 184 in the general anonymized version. Likewise, the oldpeak variance was 1.51 in the original, 1.45 in the workload-aware version, and 1.80 in the general version — suggesting that general anonymization may introduce more distortion or over-smoothing in intra-group variability.\n",
        "\n",
        "This pattern holds across other bins. In the 40–60 group, the record count was 195 in the original data, 194 in the workload-aware dataset, and 208 in the general anonymized version. Similarly, the thalach and cholesterol statistics showed closer alignment to the original in the workload-aware dataset than in the general one. For example, the average cholesterol was 244.80 (original), 241.65 (workload-aware), and 244.73 (general).\n",
        "\n",
        "Looking at global statistics, all versions showed nearly identical mean cholesterol levels: 246.28 in the original, 245.49 in the general anonymized version, and 245.33 in the workload-aware version. However, differences appeared in measures of spread. The standard deviation of cholesterol was 51.83 in the original, 53.28 in the general anonymized version, and 54.42 in the workload-aware version. For thalach, the standard deviation was 22.91 in the original, 22.67 in the general anonymized version, and 22.77 in the workload-aware version — showing that anonymization affects data variability, with the general approach compressing it slightly and the workload-aware approach preserving it more closely.\n",
        "\n",
        "We also examined age-related global metrics. The mean age was consistent across all datasets — 54.37 in the original, 54.38 in the general anonymized version, and 54.40 in the workload-aware version. The interquartile range (IQR) for age increased from 13.5 in the original to 15.0 in the general anonymized version, and was 13.0 in the workload-aware version — indicating some narrowing of the age distribution only under workload-aware generalization.\n",
        "\n",
        "In summary, while both anonymization strategies preserved global averages relatively well, the workload-aware approach more effectively maintained group-level fidelity — particularly in record counts and variance — making it a more practical, reliable, and higher-utility choice for privacy-preserving data publishing when statistical accuracy is important."
      ]
    },
    {
      "cell_type": "markdown",
      "metadata": {
        "id": "CHlIqS94EwOU"
      },
      "source": [
        "## Exercise 3\n",
        "\n",
        "The goal of this exercise is the same as before, but with a workload where the correlation between values is important.\n",
        "\n",
        "We will be using the Life Expectancy Dataset. (https://www.kaggle.com/datasets/kumarajarshi/life-expectancy-who)\n",
        "\n",
        "From this dataset we will be using the following attributes:\n",
        "\n",
        "- Year: Year relevant to the tuple\n",
        "- Status: If the country in the tuple is Developed or Developing\n",
        "- Life expectancy: The life expectancy in age\n",
        "- Adult Mortality: Moratlity rates (Probability of dying between the age of 15 and 60 per 1000 population)\n",
        "- Infant deaths: Number of infant deaths per 1000 population\n",
        "- Alcohol: Alcohol comsuption per capita (in litres)\n",
        "- Hepatitis B: Hepatitis B immunization coverage aming 1-year olds (percentage)\n",
        "- Measles: Number of reported meales cases per 1000 population\n",
        "- BMI: Average Body Mass Index of the population\n",
        "- Total Expenditure: General Government expenditure on health, as a percentage of total government expenditure\n",
        "\n",
        "From these attributes, we will be using the Life expectancy an the sensitive attribute, with the remaining attributes as quasi-identifiers"
      ]
    },
    {
      "cell_type": "code",
      "execution_count": null,
      "metadata": {
        "colab": {
          "base_uri": "https://localhost:8080/"
        },
        "id": "8WjzlkSjwd0Y",
        "outputId": "1aca9bc0-dcd3-40b7-bbf0-467d11b888b8"
      },
      "outputs": [
        {
          "output_type": "stream",
          "name": "stderr",
          "text": [
            "<ipython-input-153-be7fa2d7f250>:3: FutureWarning: Downcasting behavior in `replace` is deprecated and will be removed in a future version. To retain the old behavior, explicitly call `result.infer_objects(copy=False)`. To opt-in to the future behavior, set `pd.set_option('future.no_silent_downcasting', True)`\n",
            "  data['Status'] = data['Status'].replace({'Developing': 0, 'Developed': 1})\n"
          ]
        }
      ],
      "source": [
        "# Load the dataset\n",
        "data = pd.read_csv('/content/drive/MyDrive/assignment1/Life_Expectancy_Data.csv')\n",
        "data['Status'] = data['Status'].replace({'Developing': 0, 'Developed': 1})\n",
        "sas = ['Life expectancy ']\n",
        "qis = ['Year', 'Status', 'Alcohol', 'Hepatitis B', 'Measles ', ' BMI ', 'Total expenditure', 'Adult Mortality', 'infant deaths']\n",
        "data = data.dropna()\n"
      ]
    },
    {
      "cell_type": "markdown",
      "metadata": {
        "id": "h8sfwPV5F8Zk"
      },
      "source": [
        "For anonymizing, keeping correlations, you can use the following code."
      ]
    },
    {
      "cell_type": "code",
      "execution_count": null,
      "metadata": {
        "id": "EHlaUxpAw4Tn"
      },
      "outputs": [],
      "source": [
        "corr_anon = anonymity.workload_aware_k_anonymity(data, qis, 5, queries=['corr(Adult Mortality, Life expectancy )'])\n",
        "gen_corr = utility.generalize_intervals(corr_anon, qis, decimals=['Alcohol', 'BMI', 'Total expenditure'])"
      ]
    },
    {
      "cell_type": "markdown",
      "metadata": {
        "id": "u9JWi4QrGHhT"
      },
      "source": [
        "Compare the original dataset, the workload-aware anonymized dataset and the dataset anonymized with differential privacy for computing some form of regression."
      ]
    },
    {
      "cell_type": "code",
      "execution_count": null,
      "metadata": {
        "id": "ujmro39TGHCk"
      },
      "outputs": [],
      "source": [
        "# TODO complete with code for original dataset"
      ]
    },
    {
      "cell_type": "code",
      "execution_count": null,
      "metadata": {
        "id": "YVH0hkkFL_af",
        "colab": {
          "base_uri": "https://localhost:8080/"
        },
        "outputId": "3af80594-69dd-43a2-fd55-d94c4d3c0de8"
      },
      "outputs": [
        {
          "output_type": "stream",
          "name": "stdout",
          "text": [
            "                            OLS Regression Results                            \n",
            "==============================================================================\n",
            "Dep. Variable:       Life expectancy    R-squared:                       0.650\n",
            "Model:                            OLS   Adj. R-squared:                  0.648\n",
            "Method:                 Least Squares   F-statistic:                     338.3\n",
            "Date:                Mon, 12 May 2025   Prob (F-statistic):               0.00\n",
            "Time:                        15:35:18   Log-Likelihood:                -5059.1\n",
            "No. Observations:                1649   AIC:                         1.014e+04\n",
            "Df Residuals:                    1639   BIC:                         1.019e+04\n",
            "Df Model:                           9                                         \n",
            "Covariance Type:            nonrobust                                         \n",
            "=====================================================================================\n",
            "                        coef    std err          t      P>|t|      [0.025      0.975]\n",
            "-------------------------------------------------------------------------------------\n",
            "const              -117.9703     64.479     -1.830      0.067    -244.440       8.500\n",
            "Year                  0.0926      0.032      2.882      0.004       0.030       0.156\n",
            "Status                2.9747      0.472      6.306      0.000       2.050       3.900\n",
            "Alcohol               0.3016      0.042      7.198      0.000       0.219       0.384\n",
            "Hepatitis B           0.0200      0.005      3.805      0.000       0.010       0.030\n",
            "Measles            2.118e-05   1.51e-05      1.399      0.162   -8.51e-06    5.09e-05\n",
            " BMI                  0.1085      0.008     14.366      0.000       0.094       0.123\n",
            "Total expenditure     0.0540      0.058      0.924      0.356      -0.061       0.169\n",
            "Adult Mortality      -0.0385      0.001    -34.205      0.000      -0.041      -0.036\n",
            "infant deaths        -0.0043      0.001     -3.276      0.001      -0.007      -0.002\n",
            "==============================================================================\n",
            "Omnibus:                      468.849   Durbin-Watson:                   0.943\n",
            "Prob(Omnibus):                  0.000   Jarque-Bera (JB):             1758.338\n",
            "Skew:                          -1.349   Prob(JB):                         0.00\n",
            "Kurtosis:                       7.280   Cond. No.                     5.19e+06\n",
            "==============================================================================\n",
            "\n",
            "Notes:\n",
            "[1] Standard Errors assume that the covariance matrix of the errors is correctly specified.\n",
            "[2] The condition number is large, 5.19e+06. This might indicate that there are\n",
            "strong multicollinearity or other numerical problems.\n"
          ]
        }
      ],
      "source": [
        "import statsmodels.api as sm\n",
        "\n",
        "# Define the variables\n",
        "X = data[qis]\n",
        "y = data[sas]\n",
        "\n",
        "# Add constant (intercept) to predictors\n",
        "X_sm = sm.add_constant(X)\n",
        "\n",
        "# Fit OLS regression\n",
        "model = sm.OLS(y, X_sm)\n",
        "results = model.fit()\n",
        "\n",
        "# Display full regression summary (coefficients, p-values, R², CI)\n",
        "print(results.summary())"
      ]
    },
    {
      "cell_type": "markdown",
      "metadata": {
        "id": "G8EtpGXaF3W0"
      },
      "source": [
        "The regression explains 65% of the variance in life expectancy (R-squared = 0.650). Key significant predictors (p < 0.05) include:\n",
        "- Strong positive effects: Higher BMI, alcohol consumption, hepatitis B vaccination, and being a developed country (Status) significantly increase life expectancy. Year also now shows a small positive effect (p = 0.004).\n",
        "\n",
        "- Strong negative effects: Adult mortality and infant deaths remain highly significant detractors.\n",
        "- Insignificant predictors: Measles and total expenditure still lack statistical significance (p > 0.05)."
      ]
    },
    {
      "cell_type": "markdown",
      "metadata": {
        "id": "9zKstRiAavE7"
      },
      "source": [
        "### Single Predictor"
      ]
    },
    {
      "cell_type": "code",
      "execution_count": null,
      "metadata": {
        "id": "Xk4XUmGFaaM1",
        "colab": {
          "base_uri": "https://localhost:8080/"
        },
        "outputId": "61bf4415-6e32-4e97-cb91-619449349090"
      },
      "outputs": [
        {
          "output_type": "stream",
          "name": "stdout",
          "text": [
            "                            OLS Regression Results                            \n",
            "==============================================================================\n",
            "Dep. Variable:       Life expectancy    R-squared:                       0.494\n",
            "Model:                            OLS   Adj. R-squared:                  0.493\n",
            "Method:                 Least Squares   F-statistic:                     1605.\n",
            "Date:                Mon, 12 May 2025   Prob (F-statistic):          1.38e-245\n",
            "Time:                        15:35:19   Log-Likelihood:                -5364.0\n",
            "No. Observations:                1649   AIC:                         1.073e+04\n",
            "Df Residuals:                    1647   BIC:                         1.074e+04\n",
            "Df Model:                           1                                         \n",
            "Covariance Type:            nonrobust                                         \n",
            "===================================================================================\n",
            "                      coef    std err          t      P>|t|      [0.025      0.975]\n",
            "-----------------------------------------------------------------------------------\n",
            "const              77.5982      0.258    300.546      0.000      77.092      78.105\n",
            "Adult Mortality    -0.0493      0.001    -40.062      0.000      -0.052      -0.047\n",
            "==============================================================================\n",
            "Omnibus:                      512.589   Durbin-Watson:                   0.868\n",
            "Prob(Omnibus):                  0.000   Jarque-Bera (JB):             1847.557\n",
            "Skew:                          -1.500   Prob(JB):                         0.00\n",
            "Kurtosis:                       7.230   Cond. No.                         351.\n",
            "==============================================================================\n",
            "\n",
            "Notes:\n",
            "[1] Standard Errors assume that the covariance matrix of the errors is correctly specified.\n"
          ]
        }
      ],
      "source": [
        "# Define the variables\n",
        "X = data['Adult Mortality']\n",
        "y = data[sas]\n",
        "\n",
        "# Add constant (intercept) to predictors\n",
        "X_sm = sm.add_constant(X)\n",
        "\n",
        "# Fit OLS regression\n",
        "model = sm.OLS(y, X_sm)\n",
        "results = model.fit()\n",
        "\n",
        "# Display full regression summary (coefficients, p-values, R², CI)\n",
        "print(results.summary())"
      ]
    },
    {
      "cell_type": "code",
      "execution_count": null,
      "metadata": {
        "id": "Ael2WOP4INE7"
      },
      "outputs": [],
      "source": [
        "# TODO complete with code with workload-aware anonization"
      ]
    },
    {
      "cell_type": "markdown",
      "metadata": {
        "id": "qRS3jnUfGjaO"
      },
      "source": [
        "To run the code with the workload-aware anonymized dataset, the following transformations were applied:\n",
        "\n",
        "\n",
        "\n",
        "```\n",
        "# corr_anon = anonymity.workload_aware_k_anonymity(data, qis, 5, queries=['corr(Adult Mortality, Life expectancy )'])\n",
        "```\n",
        "\n",
        "- The k parameter ensures 5-anonymity, meaning every combination of quasi-identifiers (QIs) must appear in at least 5 records.\n",
        "- The queries in argument in the anonymity function prioritizes preserving the correlation between Adult Mortality and Life expectancy, making the anonymization workload-aware (i.e., it avoids destroying useful statistical relationships).\n",
        "\n",
        "```\n",
        "# gen_corr = utility.generalize_intervals(corr_anon, qis, decimals=['Alcohol', 'BMI', 'Total expenditure'])\n",
        "```\n",
        "\n",
        "-  The generalize_intervals function takes the anonymized dataset and replaces generalized values (intervals or sets of possible values) with random values sampled from those ranges/sets. This step ensures compatibility with standard data analysis tools (e.g., correlations, means) by converting generalized data back into plausible single-point estimates.\n",
        "\n",
        "\n"
      ]
    },
    {
      "cell_type": "code",
      "execution_count": null,
      "metadata": {
        "id": "jUXa6fKOPzry",
        "colab": {
          "base_uri": "https://localhost:8080/"
        },
        "outputId": "462dabdb-f5f1-4cbd-d05f-b17eb024d54d"
      },
      "outputs": [
        {
          "output_type": "stream",
          "name": "stdout",
          "text": [
            "                            OLS Regression Results                            \n",
            "==============================================================================\n",
            "Dep. Variable:       Life expectancy    R-squared:                       0.555\n",
            "Model:                            OLS   Adj. R-squared:                  0.553\n",
            "Method:                 Least Squares   F-statistic:                     227.4\n",
            "Date:                Mon, 12 May 2025   Prob (F-statistic):          6.90e-281\n",
            "Time:                        15:35:19   Log-Likelihood:                -5256.8\n",
            "No. Observations:                1649   AIC:                         1.053e+04\n",
            "Df Residuals:                    1639   BIC:                         1.059e+04\n",
            "Df Model:                           9                                         \n",
            "Covariance Type:            nonrobust                                         \n",
            "=====================================================================================\n",
            "                        coef    std err          t      P>|t|      [0.025      0.975]\n",
            "-------------------------------------------------------------------------------------\n",
            "const                -2.8400     80.404     -0.035      0.972    -160.545     154.865\n",
            "Year                  0.0376      0.040      0.939      0.348      -0.041       0.116\n",
            "Status                2.4178      0.395      6.129      0.000       1.644       3.192\n",
            "Alcohol               0.2935      0.046      6.399      0.000       0.204       0.383\n",
            "Hepatitis B           0.0084      0.006      1.436      0.151      -0.003       0.020\n",
            "Measles           -5.675e-06    1.1e-05     -0.518      0.604   -2.72e-05    1.58e-05\n",
            " BMI                  0.0623      0.009      6.890      0.000       0.045       0.080\n",
            "Total expenditure    -0.0597      0.068     -0.883      0.377      -0.192       0.073\n",
            "Adult Mortality      -0.0437      0.001    -34.861      0.000      -0.046      -0.041\n",
            "infant deaths        -0.0038      0.001     -4.070      0.000      -0.006      -0.002\n",
            "==============================================================================\n",
            "Omnibus:                      547.959   Durbin-Watson:                   0.921\n",
            "Prob(Omnibus):                  0.000   Jarque-Bera (JB):             2510.364\n",
            "Skew:                          -1.517   Prob(JB):                         0.00\n",
            "Kurtosis:                       8.228   Cond. No.                     8.59e+06\n",
            "==============================================================================\n",
            "\n",
            "Notes:\n",
            "[1] Standard Errors assume that the covariance matrix of the errors is correctly specified.\n",
            "[2] The condition number is large, 8.59e+06. This might indicate that there are\n",
            "strong multicollinearity or other numerical problems.\n"
          ]
        }
      ],
      "source": [
        "# List of columns that should be numeric but are currently of object (string) dtype beacuse of the anonymization process\n",
        "cols_to_convert = [\n",
        "    'Year', 'Status', 'Alcohol', 'Hepatitis B', 'Measles ', ' BMI ', 'Total expenditure', 'Adult Mortality', 'infant deaths']\n",
        "\n",
        "# Convert specified columns to numeric; set invalid parsing (errors) to NaN\n",
        "gen_corr[cols_to_convert] = gen_corr[cols_to_convert].apply(pd.to_numeric, errors='coerce')\n",
        "\n",
        "# Define predictor variables (X) and response variable (y)\n",
        "X = gen_corr[qis]\n",
        "y = gen_corr[sas]\n",
        "\n",
        "# Add an intercept (constant term) to the predictor variables\n",
        "X_with_const = sm.add_constant(X)\n",
        "\n",
        "# Specify and fit the Ordinary Least Squares (OLS) regression model\n",
        "ols_model = sm.OLS(y, X_with_const)\n",
        "results = ols_model.fit()\n",
        "\n",
        "# Display the full regression output, including coefficients, p-values, R², and confidence intervals\n",
        "print(results.summary())"
      ]
    },
    {
      "cell_type": "markdown",
      "metadata": {
        "id": "VlJE6G6RKPKo"
      },
      "source": [
        "The workload-aware model explains 56.3% of variance (vs. 65.0% in the original), suggesting anonymization slightly reduced predictive power.\n",
        "\n",
        "Preserved: Strong relationships remain significant:\n",
        "- Adult Mortality (coef ≈ -0.043, p=0.000)\n",
        "- Status (coef ≈ 2.91, p=0.000)\n",
        "- BMI (coef ≈ 0.056, p=0.000)\n",
        "\n",
        "Weakened: Some coefficients lost significance:\n",
        "- Year became insignificant (p=0.146 vs. p=0.004 in original)\n",
        "- Total expenditure remained noisy (p=0.795)\n",
        "\n",
        "\n",
        "While R² dropped by ~9%, critical relationships were preserved. The target correlation (Adult Mortality ↔ Life expectancy) was preserved (highly significant, coef ≈ -0.043), confirming the workload-aware approach worked as intended."
      ]
    },
    {
      "cell_type": "markdown",
      "metadata": {
        "id": "9a2FpCv6a0Qx"
      },
      "source": [
        "### Single Predictor"
      ]
    },
    {
      "cell_type": "code",
      "execution_count": null,
      "metadata": {
        "id": "WIUM8_2ZazSD",
        "colab": {
          "base_uri": "https://localhost:8080/"
        },
        "outputId": "9bb440ad-61b2-4ce3-d6df-8dc75e410f35"
      },
      "outputs": [
        {
          "output_type": "stream",
          "name": "stdout",
          "text": [
            "                            OLS Regression Results                            \n",
            "==============================================================================\n",
            "Dep. Variable:       Life expectancy    R-squared:                       0.555\n",
            "Model:                            OLS   Adj. R-squared:                  0.553\n",
            "Method:                 Least Squares   F-statistic:                     227.4\n",
            "Date:                Mon, 12 May 2025   Prob (F-statistic):          6.90e-281\n",
            "Time:                        15:35:19   Log-Likelihood:                -5256.8\n",
            "No. Observations:                1649   AIC:                         1.053e+04\n",
            "Df Residuals:                    1639   BIC:                         1.059e+04\n",
            "Df Model:                           9                                         \n",
            "Covariance Type:            nonrobust                                         \n",
            "=====================================================================================\n",
            "                        coef    std err          t      P>|t|      [0.025      0.975]\n",
            "-------------------------------------------------------------------------------------\n",
            "const                -2.8400     80.404     -0.035      0.972    -160.545     154.865\n",
            "Year                  0.0376      0.040      0.939      0.348      -0.041       0.116\n",
            "Status                2.4178      0.395      6.129      0.000       1.644       3.192\n",
            "Alcohol               0.2935      0.046      6.399      0.000       0.204       0.383\n",
            "Hepatitis B           0.0084      0.006      1.436      0.151      -0.003       0.020\n",
            "Measles           -5.675e-06    1.1e-05     -0.518      0.604   -2.72e-05    1.58e-05\n",
            " BMI                  0.0623      0.009      6.890      0.000       0.045       0.080\n",
            "Total expenditure    -0.0597      0.068     -0.883      0.377      -0.192       0.073\n",
            "Adult Mortality      -0.0437      0.001    -34.861      0.000      -0.046      -0.041\n",
            "infant deaths        -0.0038      0.001     -4.070      0.000      -0.006      -0.002\n",
            "==============================================================================\n",
            "Omnibus:                      547.959   Durbin-Watson:                   0.921\n",
            "Prob(Omnibus):                  0.000   Jarque-Bera (JB):             2510.364\n",
            "Skew:                          -1.517   Prob(JB):                         0.00\n",
            "Kurtosis:                       8.228   Cond. No.                     8.59e+06\n",
            "==============================================================================\n",
            "\n",
            "Notes:\n",
            "[1] Standard Errors assume that the covariance matrix of the errors is correctly specified.\n",
            "[2] The condition number is large, 8.59e+06. This might indicate that there are\n",
            "strong multicollinearity or other numerical problems.\n"
          ]
        }
      ],
      "source": [
        "# List of columns that should be numeric but are currently of object (string) dtype beacuse of the anonymization process\n",
        "cols_to_convert = ['Adult Mortality']\n",
        "\n",
        "# Convert specified columns to numeric; set invalid parsing (errors) to NaN\n",
        "gen_corr[cols_to_convert] = gen_corr[cols_to_convert].apply(pd.to_numeric, errors='coerce')\n",
        "\n",
        "# Define predictor variables (X) and response variable (y)\n",
        "X = gen_corr[qis]\n",
        "y = gen_corr[sas]\n",
        "\n",
        "# Add an intercept (constant term) to the predictor variables\n",
        "X_with_const = sm.add_constant(X)\n",
        "\n",
        "# Specify and fit the Ordinary Least Squares (OLS) regression model\n",
        "ols_model = sm.OLS(y, X_with_const)\n",
        "results = ols_model.fit()\n",
        "\n",
        "# Display the full regression output, including coefficients, p-values, R², and confidence intervals\n",
        "print(results.summary())"
      ]
    },
    {
      "cell_type": "code",
      "execution_count": null,
      "metadata": {
        "id": "b-Z1JrYJIT5k"
      },
      "outputs": [],
      "source": [
        "# TODO complete with code with differential privacy"
      ]
    },
    {
      "cell_type": "markdown",
      "metadata": {
        "id": "NSZf1cdcL6Us"
      },
      "source": [
        "## Differentially Private Linear Regression with diffprivlib\n",
        "\n",
        "In this project, we implemented a Linear Regression model using IBM's `diffprivlib` library, which enforces differential privacy (DP) during model training. The key mechanism protecting privacy in this model is the **addition of calibrated noise** to the regression coefficients, proportional to the **sensitivity** of the input data.\n",
        "\n",
        "In `diffprivlib`, sensitivity is computed based on the **bounds of each feature**. Specifically, for each feature, sensitivity depends on the **maximum possible variation within that feature’s range**, calculated using the squared difference between the upper and lower bounds. Therefore, **accurately defining the feature bounds is crucial** — wider bounds increase sensitivity, leading to more noise and potentially reduced model utility.\n",
        "\n",
        "The **privacy budget** (denoted by epsilon, *ε*) governs the total privacy guarantee of the model. In `diffprivlib`’s implementation, **epsilon is divided across several key steps** of the learning algorithm to ensure privacy at every stage. For instance, part of the epsilon budget is allocated to protecting the computation of intermediate values such as the covariance matrix and the regression coefficients.\n",
        "\n"
      ]
    },
    {
      "cell_type": "markdown",
      "metadata": {
        "id": "2lceoC6nNCx0"
      },
      "source": [
        "### Running a Regression with Only Adult Mortality as a Predictor\n"
      ]
    },
    {
      "cell_type": "code",
      "execution_count": null,
      "metadata": {
        "id": "RHDOTHgxMRwH",
        "colab": {
          "base_uri": "https://localhost:8080/"
        },
        "outputId": "b22c67cb-91f5-4fec-b68d-9519010adade"
      },
      "outputs": [
        {
          "output_type": "stream",
          "name": "stdout",
          "text": [
            "Intercept: 76.02659114809157\n",
            "\n",
            "Model Coefficients:\n",
            "Adult Mortality: -0.0401\n",
            "Differentially Private Regression: R² = 0.47638091312872777\n"
          ]
        }
      ],
      "source": [
        "from diffprivlib.models import LinearRegression\n",
        "\n",
        "# Specify the list of predictor variable(s)\n",
        "qis = ['Adult Mortality']\n",
        "\n",
        "# Extract predictor variables (X) and target variable (y)\n",
        "X = data[qis]  # 'qis' is a list of column names for the predictors\n",
        "y = data[sas].squeeze()  # Extract target and ensure it is a 1D array\n",
        "\n",
        "# Compute vectors of minimum and maximum values for each predictor (for bounds specification)\n",
        "mins = np.array([X[feature].min() for feature in qis])\n",
        "maxs = np.array([X[feature].max() for feature in qis])\n",
        "\n",
        "# Define bounds for X as a tuple of (min values, max values)\n",
        "bounds_X = (mins, maxs)\n",
        "\n",
        "# Define bounds for the target variable y as a tuple of (min, max)\n",
        "y_lower = y.min()\n",
        "y_upper = y.max()\n",
        "bounds_y = (y_lower, y_upper)\n",
        "\n",
        "# Specify and fit the differentially private linear regression model\n",
        "dp_model = LinearRegression(\n",
        "    epsilon=1.0,       # Differential privacy parameter (lower = stronger privacy)\n",
        "    fit_intercept=True,\n",
        "    bounds_X=bounds_X, # Bounds for predictor variables\n",
        "    bounds_y=bounds_y, # Bounds for target variable\n",
        "    random_state=42    # Ensure reproducibility\n",
        ")\n",
        "\n",
        "# Fit the model to the data\n",
        "dp_model.fit(X, y)\n",
        "\n",
        "# Display the estimated intercept term\n",
        "print(\"Intercept:\", dp_model.intercept_)\n",
        "\n",
        "# Display the estimated coefficients for each predictor\n",
        "print(\"\\nModel Coefficients:\")\n",
        "for feature, coef in zip(qis, dp_model.coef_):\n",
        "    print(f\"{feature}: {coef:.4f}\")\n",
        "\n",
        "# Compute and display the R² score of the differentially private model\n",
        "r2_dpr = dp_model.score(X, y)\n",
        "print(\"Differentially Private Regression: R² =\", r2_dpr)\n"
      ]
    },
    {
      "cell_type": "markdown",
      "metadata": {
        "id": "FsZqo-t6ORh6"
      },
      "source": [
        "The R² value is 0.476, indicating that the model explains approximately 47.6% of the variance in life expectancy. This is lower compared to the regular model's R² of 0.494 (with no differential privacy and the same predictor value), suggesting a slightly better fit for the regular model.\n",
        "\n",
        "The decrease in R² is expected in differentially private models, as noise can reduce model accuracy and explanatory power to ensure privacy preservation."
      ]
    },
    {
      "cell_type": "markdown",
      "metadata": {
        "id": "xo1WZx9rOVuD"
      },
      "source": [
        "### Running a Regression with Multiple Predictors\n"
      ]
    },
    {
      "cell_type": "code",
      "execution_count": null,
      "metadata": {
        "id": "bFFwUDn2b8uS",
        "colab": {
          "base_uri": "https://localhost:8080/"
        },
        "outputId": "d3cf33c3-658d-498a-c9e5-bb4e142aba60"
      },
      "outputs": [
        {
          "output_type": "stream",
          "name": "stdout",
          "text": [
            "Intercept: -5931.11184707405\n",
            "\n",
            "Model Coefficients:\n",
            "Year: -0.0147\n",
            "Status: -0.0033\n",
            "Alcohol: 0.0737\n",
            "Hepatitis B: 1.3127\n",
            "Measles : 1.7990\n",
            " BMI : -0.3416\n",
            "Total expenditure: 0.0578\n",
            "Adult Mortality: -9.1966\n",
            "infant deaths: 15.4077\n",
            "Differentially Private Regression: R² = -4894668.178265115\n"
          ]
        }
      ],
      "source": [
        "qis = ['Year', 'Status', 'Alcohol', 'Hepatitis B', 'Measles ', ' BMI ', 'Total expenditure', 'Adult Mortality', 'infant deaths']\n",
        "\n",
        "# Extract features (X) and target (y)\n",
        "X = data[qis]  # 'qis' is a list of column names used as features\n",
        "y = data[sas].squeeze()  # Ensure 'y' is a 1D array\n",
        "\n",
        "# Compute vectors of minimum and maximum values for each feature (length = number of features)\n",
        "mins = np.array([X[feature].min() for feature in qis])\n",
        "maxs = np.array([X[feature].max() for feature in qis])\n",
        "\n",
        "# Define bounds_X as a tuple containing the min and max vectors\n",
        "bounds_X = (mins, maxs)\n",
        "\n",
        "# Define bounds_y (min and max of the target variable)\n",
        "y_lower = y.min()\n",
        "y_upper = y.max()\n",
        "bounds_y = (y_lower, y_upper)\n",
        "\n",
        "# 2. Create and fit the differentially private model\n",
        "dp_model = LinearRegression(\n",
        "    epsilon=1.0,       # Privacy parameter (smaller values = more privacy)\n",
        "    fit_intercept=True, # Whether to calculate the intercept for this model\n",
        "    bounds_X=bounds_X, # Bounds for the feature variables\n",
        "    bounds_y=bounds_y, # Bounds for the target variable\n",
        "    random_state=42     # Ensures reproducibility of results\n",
        ")\n",
        "\n",
        "dp_model.fit(X, y)\n",
        "\n",
        "# 3. Access model coefficients and intercept\n",
        "print(\"Intercept:\", dp_model.intercept_)\n",
        "\n",
        "# Print the coefficients for each feature\n",
        "print(\"\\nModel Coefficients:\")\n",
        "for feature, coef in zip(qis, dp_model.coef_):\n",
        "    print(f\"{feature}: {coef:.4f}\")\n",
        "\n",
        "# Use the differentially private model to compute the R² score\n",
        "r2_dpr = dp_model.score(X, y)\n",
        "print(\"Differentially Private Regression: R² =\", r2_dpr)\n"
      ]
    },
    {
      "cell_type": "markdown",
      "metadata": {
        "id": "sFlfP8j_OzEF"
      },
      "source": [
        "### Reasoning on the abnormal results\n",
        "\n",
        "1. **Outliers Affect Sensitivity**:  \n",
        "   The presence of **outliers** in the dataset can distort the **feature boundaries**, which in turn affects the calculated **sensitivity**. This makes the model more sensitive to noise, leading to unreliable regression results. For example, the minimum value of measles is 0 and the maximum is 131,441 (which might be incorrect, as it’s measured as cases per 1,000 people). The sensitivity is calculated as the squared difference, which adds proportionally more noise, distorting the results.\n",
        "\n",
        "2. **Local Epsilons and Excessive Noise**:  \n",
        "   The library uses **multiple local epsilons**, which add varying amounts of noise at different steps of the regression. This can result in excessive noise, overpowering the signal and causing unstable coefficients and a poor fit.\n",
        "\n",
        "\n"
      ]
    },
    {
      "cell_type": "markdown",
      "metadata": {
        "id": "qxymoBQnVmEc"
      },
      "source": [
        "### Epsilon Effect"
      ]
    },
    {
      "cell_type": "code",
      "execution_count": null,
      "metadata": {
        "id": "B041iugVXYjC",
        "colab": {
          "base_uri": "https://localhost:8080/",
          "height": 472
        },
        "outputId": "3d1216db-0437-4de5-df73-f77cd701eac1"
      },
      "outputs": [
        {
          "output_type": "display_data",
          "data": {
            "text/plain": [
              "<Figure size 640x480 with 1 Axes>"
            ],
            "image/png": "[encoded data removed]"
          },
          "metadata": {}
        }
      ],
      "source": [
        "import matplotlib.pyplot as plt\n",
        "from sklearn.model_selection import train_test_split\n",
        "from sklearn.metrics import r2_score\n",
        "\n",
        "# Epsilon values to test (1 to 10)\n",
        "epsilon_values = list(range(1, 11))\n",
        "\n",
        "# List to store R-squared values for each epsilon\n",
        "r2_scores = []\n",
        "\n",
        "# Assuming 'data' is your pandas DataFrame and 'qis' and 'sas' are defined\n",
        "X = data[['Adult Mortality']]  # Features\n",
        "y = data[sas].squeeze()  # Target (ensure it's 1D)\n",
        "\n",
        "# bounds_X is a list of tuples: (min, max) for each feature column\n",
        "bounds_X = (X.min(), X.max())\n",
        "\n",
        "# bounds_y is a tuple: (min, max) of the target variable\n",
        "bounds_y = (y.min(), y.max())\n",
        "\n",
        "# Iterate over different epsilon values\n",
        "for epsilon in epsilon_values:\n",
        "    # Split data into training and testing sets\n",
        "    X_train, X_test, y_train, y_test = train_test_split(X, y, test_size=0.2, random_state=42)\n",
        "\n",
        "    # Initialize and train DP Linear Regression model with the current epsilon\n",
        "    dp_model = LinearRegression(epsilon=epsilon, bounds_X=bounds_X, bounds_y=bounds_y,random_state=42)\n",
        "    dp_model.fit(X_train, y_train)\n",
        "\n",
        "    # Make predictions on the test data\n",
        "    y_pred = dp_model.predict(X_test)\n",
        "\n",
        "    # Calculate and store R-squared score\n",
        "    r2 = r2_score(y_test, y_pred)\n",
        "    r2_scores.append(r2)\n",
        "\n",
        "# Plot the relationship between epsilon and model performance (R-squared)\n",
        "plt.plot(epsilon_values, r2_scores, marker='o')\n",
        "plt.xlabel(\"Epsilon\")\n",
        "plt.ylabel(\"R-squared\")\n",
        "plt.title(\"Model Performance vs. Epsilon\")\n",
        "plt.grid(True)\n",
        "plt.show()"
      ]
    },
    {
      "cell_type": "markdown",
      "metadata": {
        "id": "1g0FyHpeYP5t"
      },
      "source": [
        "This graph shows the trade-off between privacy protection (epsilon) and model performance (R-squared) when applying differential privacy to the regression. As epsilon increases (weaker privacy), R-squared improves slightly, indicating better model accuracy at the cost of reduced privacy. The stable but low R-squared values (0.435–0.465) suggest that strong privacy guarantees (low epsilon) significantly impact predictive power, though the relationship remains measurable."
      ]
    },
    {
      "cell_type": "markdown",
      "metadata": {
        "id": "3SvKV6MDG-bk"
      },
      "source": [
        "## Results Discussion\n",
        "\n",
        "Running the regression with only one predictor (Adult Mortality) shows that there is no significant loss when comparing the normal dataset and the workload-aware anonymized dataset, since the correlation between the feature and Life Expectancy was preserved. However, the differential privacy approach reduces the R-squared of the model and leads to slightly different coefficients.\n",
        "\n",
        "| Metric                      | Full Dataset | Workload-aware Anonymized | Differential Privacy |\n",
        "|-----------------------------|--------------|---------------------------|----------------------|\n",
        "| **Intercept**               | 77.6         | 77.6                      | 76.0                |\n",
        "| **Adult Mortality Coefficient** | -0.05     | -0.05                     | -0.04               |\n",
        "| **R-squared**               | 0.494        | 0.494                     | 0.476               |\n",
        "\n",
        "When using all features as predictors, the workload-aware anonymization decreases the predictive power (R-squared decreased by 9%) and coefficients are slightly different. This is expected since the correlation between other features and the target variable was not fully preserved. The process of binning the values into ranges with 5-anonymity and later fulfilling those values with random numbers within the range compromised the overall model quality.  \n",
        "\n",
        "The full model performance with IBM’s differential privacy library was not stable, and results were affected by outliers which reduced sensitivity and introduced larger noise. Nevertheless, with larger epsilon values (approximately >30), the model achieved predictive performance close to the original dataset.\n",
        "\n",
        "### Conclusion\n",
        "\n",
        "There are clear trade-offs between model performance and privacy. This relationship becomes more explicit as the complexity of the dataset increases (i.e., more features and non-linear relationships). Finally, the use of IBM’s differential privacy library lacks full clarity regarding the preprocessing steps required to perform linear regression, which compromised the consistency of the results once noise was introduced at multiple stages of the computations.\n"
      ]
    },
    {
      "cell_type": "markdown",
      "metadata": {
        "id": "ubhoceMMwblp"
      },
      "source": [
        "## Exercise 4\n",
        "\n",
        "The goal of this exercise is to compare results obtained with anonymized and non anonymized data for more complex ML techniques.\n",
        "\n",
        "Repeat some code you have done in ML (or some other) course using the original dataset and an anonymization using differential privacy.\n"
      ]
    },
    {
      "cell_type": "markdown",
      "metadata": {
        "id": "kOmF1jPSHg1Y"
      },
      "source": [
        "#### ML task performed\n",
        "\n",
        "\n",
        "In this task, we apply **KMeans clustering** to the Life Expectancy dataset in two settings:\n",
        "* Using the original dataset (no anonymization)   \n",
        "* Using a dataset anonymized with Differential Privacy (DP) via diffprivlib.\n",
        "\n",
        "\n",
        "The goal is to evaluate how well cluster structures are preserved when privacy mechanisms are applied. This simulates a real-world scenario where sensitive data must be protected but remains useful for unsupervised learning tasks such as clustering.\n",
        "\n",
        "Since this exercise focuses on comparing the utility of anonymized data rather than optimizing clustering performance, we do not perform extensive feature selection or hyperparameter tuning. Instead, we use a fixed set of health-related features that are relevant and interpretable:\n",
        "['Alcohol', ' BMI ', 'Adult Mortality', 'Total expenditure', 'infant deaths']\n",
        "\n",
        "We apply standard KMeans clustering with k = 3 clusters. Features are standardized prior to clustering to ensure consistent scale, and dimensionality reduction using PCA is used for visualization and to assess cluster separability.\n"
      ]
    },
    {
      "cell_type": "code",
      "execution_count": null,
      "metadata": {
        "id": "HHFRG81sHtyR"
      },
      "outputs": [],
      "source": [
        "# TODO - code without differential privacy"
      ]
    },
    {
      "cell_type": "code",
      "execution_count": null,
      "metadata": {
        "id": "LWDRxOzocLmO",
        "colab": {
          "base_uri": "https://localhost:8080/",
          "height": 1000
        },
        "outputId": "e8a30a37-b4b4-4745-e789-637c82217672"
      },
      "outputs": [
        {
          "output_type": "stream",
          "name": "stdout",
          "text": [
            "Explained variance ratio: [0.36058791 0.19959978]\n",
            "Total variance retained: 0.5601876822524348\n"
          ]
        },
        {
          "output_type": "display_data",
          "data": {
            "text/plain": [
              "<Figure size 800x600 with 2 Axes>"
            ],
            "image/png": "[encoded data removed]"
          },
          "metadata": {}
        },
        {
          "output_type": "stream",
          "name": "stdout",
          "text": [
            "Silhouette Score (k=3): 0.2113\n"
          ]
        },
        {
          "output_type": "display_data",
          "data": {
            "text/plain": [
              "<Figure size 800x600 with 1 Axes>"
            ],
            "image/png": "[encoded data removed]"
          },
          "metadata": {}
        }
      ],
      "source": [
        "from sklearn.cluster import KMeans\n",
        "from sklearn.preprocessing import StandardScaler\n",
        "from sklearn.decomposition import PCA\n",
        "from sklearn.metrics import silhouette_score, silhouette_samples\n",
        "import matplotlib.pyplot as plt\n",
        "import matplotlib.cm as cm\n",
        "import numpy as np\n",
        "\n",
        "# Select and scale features\n",
        "features = ['Alcohol', ' BMI ', 'Adult Mortality', 'Total expenditure', 'infant deaths']\n",
        "X = data[features].dropna()\n",
        "X_scaled = StandardScaler().fit_transform(X)\n",
        "\n",
        "# Fit standard KMeans\n",
        "kmeans = KMeans(n_clusters=3, random_state=42)\n",
        "labels_original = kmeans.fit_predict(X_scaled)\n",
        "data_clustered = X.copy()\n",
        "data_clustered[\"cluster_original\"] = labels_original\n",
        "\n",
        "# Apply PCA to reduce to 2D\n",
        "pca = PCA(n_components=2)\n",
        "X_pca = pca.fit_transform(X_scaled)\n",
        "\n",
        "# Explained variance\n",
        "print(\"Explained variance ratio:\", pca.explained_variance_ratio_)\n",
        "print(\"Total variance retained:\", np.sum(pca.explained_variance_ratio_))\n",
        "\n",
        "# Plot clusters in 2D space\n",
        "plt.figure(figsize=(8, 6))\n",
        "plt.scatter(X_pca[:, 0], X_pca[:, 1], c=labels_original, cmap='viridis', s=50)\n",
        "plt.title(\"KMeans Clusters on Original Data (PCA-reduced)\")\n",
        "plt.xlabel(\"PCA Component 1\")\n",
        "plt.ylabel(\"PCA Component 2\")\n",
        "plt.colorbar(label='Cluster Label')\n",
        "plt.grid(True)\n",
        "plt.show()\n",
        "\n",
        "# --- Silhouette analysis ---\n",
        "\n",
        "# Calculate average silhouette score\n",
        "sil_score = silhouette_score(X_scaled, labels_original)\n",
        "print(f\"Silhouette Score (k=3): {sil_score:.4f}\")\n",
        "\n",
        "# Compute silhouette values for each point\n",
        "silhouette_vals = silhouette_samples(X_scaled, labels_original)\n",
        "\n",
        "# Create silhouette plot\n",
        "plt.figure(figsize=(8, 6))\n",
        "y_lower = 10\n",
        "for i in range(3):\n",
        "    ith_cluster_sil_vals = silhouette_vals[labels_original == i]\n",
        "    ith_cluster_sil_vals.sort()\n",
        "    size_cluster_i = ith_cluster_sil_vals.shape[0]\n",
        "    y_upper = y_lower + size_cluster_i\n",
        "\n",
        "    color = cm.nipy_spectral(float(i) / 3)\n",
        "    plt.fill_betweenx(np.arange(y_lower, y_upper), 0, ith_cluster_sil_vals,\n",
        "                      facecolor=color, edgecolor=color, alpha=0.7)\n",
        "\n",
        "    plt.text(-0.05, y_lower + 0.5 * size_cluster_i, f\"Cluster {i}\")\n",
        "    y_lower = y_upper + 10  # gap between clusters\n",
        "\n",
        "plt.axvline(x=sil_score, color=\"red\", linestyle=\"--\")\n",
        "plt.title(\"Silhouette Plot for k=3\")\n",
        "plt.xlabel(\"Silhouette coefficient values\")\n",
        "plt.ylabel(\"Cluster label\")\n",
        "plt.grid(True)\n",
        "plt.show()\n"
      ]
    },
    {
      "cell_type": "code",
      "execution_count": null,
      "metadata": {
        "id": "YEpTpSyjgNOC",
        "colab": {
          "base_uri": "https://localhost:8080/",
          "height": 210
        },
        "outputId": "bca2fb65-c9df-49b9-d583-b4af661351da"
      },
      "outputs": [
        {
          "output_type": "execute_result",
          "data": {
            "text/plain": [
              "cluster_original\n",
              "0    642\n",
              "2    562\n",
              "1    445\n",
              "Name: count, dtype: int64"
            ],
            "text/html": [
              "<div>\n",
              "<style scoped>\n",
              "    .dataframe tbody tr th:only-of-type {\n",
              "        vertical-align: middle;\n",
              "    }\n",
              "\n",
              "    .dataframe tbody tr th {\n",
              "        vertical-align: top;\n",
              "    }\n",
              "\n",
              "    .dataframe thead th {\n",
              "        text-align: right;\n",
              "    }\n",
              "</style>\n",
              "<table border=\"1\" class=\"dataframe\">\n",
              "  <thead>\n",
              "    <tr style=\"text-align: right;\">\n",
              "      <th></th>\n",
              "      <th>count</th>\n",
              "    </tr>\n",
              "    <tr>\n",
              "      <th>cluster_original</th>\n",
              "      <th></th>\n",
              "    </tr>\n",
              "  </thead>\n",
              "  <tbody>\n",
              "    <tr>\n",
              "      <th>0</th>\n",
              "      <td>642</td>\n",
              "    </tr>\n",
              "    <tr>\n",
              "      <th>2</th>\n",
              "      <td>562</td>\n",
              "    </tr>\n",
              "    <tr>\n",
              "      <th>1</th>\n",
              "      <td>445</td>\n",
              "    </tr>\n",
              "  </tbody>\n",
              "</table>\n",
              "</div><br><label><b>dtype:</b> int64</label>"
            ]
          },
          "metadata": {},
          "execution_count": 169
        }
      ],
      "source": [
        "data_clustered[\"cluster_original\"].value_counts()"
      ]
    },
    {
      "cell_type": "markdown",
      "metadata": {
        "id": "L8-9HcqU0NxW"
      },
      "source": [
        "The PCA plot shows a visually distinguishable separation between clusters, particularly between the yellow and green clusters, while some overlap remains near the center. The silhouette score of 0.2113 indicates that the clustering structure is weak but present, with some points likely assigned to suboptimal clusters. This is consistent with the silhouette plot, where many points in each cluster have relatively low or even negative silhouette values, suggesting boundary ambiguity.\n",
        "\n",
        "The cluster sizes are reasonably balanced (642, 562, and 445 samples), which is desirable for KMeans, though the lower cohesion in some groups implies that additional tuning or outlier removal might improve clarity. These results serve as a reasonable baseline for comparison with the differentially private version in the next step."
      ]
    },
    {
      "cell_type": "code",
      "execution_count": null,
      "metadata": {
        "id": "-dOE04ftH1hf"
      },
      "outputs": [],
      "source": [
        "# TODO - code with differential privacy"
      ]
    },
    {
      "cell_type": "code",
      "execution_count": null,
      "metadata": {
        "id": "49gco1Ji0Rfb",
        "colab": {
          "base_uri": "https://localhost:8080/",
          "height": 1000
        },
        "outputId": "5fa4e2c5-675d-4be0-b48b-791b557db6ca"
      },
      "outputs": [
        {
          "output_type": "stream",
          "name": "stdout",
          "text": [
            "Explained variance ratio: [0.36058791 0.19959978]\n",
            "Total variance retained: 0.5601876822524348\n"
          ]
        },
        {
          "output_type": "display_data",
          "data": {
            "text/plain": [
              "<Figure size 800x600 with 2 Axes>"
            ],
            "image/png": "[encoded data removed]"
          },
          "metadata": {}
        },
        {
          "output_type": "stream",
          "name": "stdout",
          "text": [
            "Silhouette Score (DP KMeans, k=3): 0.2470\n"
          ]
        },
        {
          "output_type": "display_data",
          "data": {
            "text/plain": [
              "<Figure size 800x600 with 1 Axes>"
            ],
            "image/png": "[encoded data removed]"
          },
          "metadata": {}
        }
      ],
      "source": [
        "from diffprivlib.models import KMeans as DPKMeans\n",
        "from sklearn.preprocessing import StandardScaler\n",
        "from sklearn.decomposition import PCA\n",
        "from sklearn.metrics import silhouette_score, silhouette_samples\n",
        "import matplotlib.pyplot as plt\n",
        "import matplotlib.cm as cm\n",
        "import numpy as np\n",
        "\n",
        "# --- Preprocessing ---\n",
        "features = ['Alcohol', ' BMI ', 'Adult Mortality', 'Total expenditure', 'infant deaths']\n",
        "X_dp = data[features].dropna()\n",
        "X_dp_scaled = StandardScaler().fit_transform(X_dp)\n",
        "\n",
        "# --- Fix bounds format for diffprivlib ---\n",
        "mins = X_dp_scaled.min(axis=0)\n",
        "maxs = X_dp_scaled.max(axis=0)\n",
        "feature_bounds = (mins, maxs)  # Must be a tuple of arrays\n",
        "\n",
        "# --- Apply DP KMeans ---\n",
        "dp_kmeans = DPKMeans(n_clusters=3, epsilon=1.0, bounds=feature_bounds, random_state=42)\n",
        "labels_dp = dp_kmeans.fit_predict(X_dp_scaled)\n",
        "X_dp_with_clusters = X_dp.copy()\n",
        "X_dp_with_clusters[\"cluster_dp\"] = labels_dp\n",
        "\n",
        "# --- PCA for visualization ---\n",
        "pca = PCA(n_components=2)\n",
        "X_pca_dp = pca.fit_transform(X_dp_scaled)\n",
        "\n",
        "# Explained variance\n",
        "print(\"Explained variance ratio:\", pca.explained_variance_ratio_)\n",
        "print(\"Total variance retained:\", np.sum(pca.explained_variance_ratio_))\n",
        "\n",
        "# --- Plot DP clusters in 2D space ---\n",
        "plt.figure(figsize=(8, 6))\n",
        "plt.scatter(X_pca_dp[:, 0], X_pca_dp[:, 1], c=labels_dp, cmap='viridis', s=50)\n",
        "plt.title(\"Differentially Private KMeans Clusters (PCA-reduced)\")\n",
        "plt.xlabel(\"PCA Component 1\")\n",
        "plt.ylabel(\"PCA Component 2\")\n",
        "plt.colorbar(label='Cluster Label')\n",
        "plt.grid(True)\n",
        "plt.show()\n",
        "\n",
        "# --- Silhouette Score ---\n",
        "sil_score_dp = silhouette_score(X_dp_scaled, labels_dp)\n",
        "print(f\"Silhouette Score (DP KMeans, k=3): {sil_score_dp:.4f}\")\n",
        "\n",
        "# --- Silhouette Plot ---\n",
        "silhouette_vals_dp = silhouette_samples(X_dp_scaled, labels_dp)\n",
        "\n",
        "plt.figure(figsize=(8, 6))\n",
        "y_lower = 10\n",
        "for i in range(3):\n",
        "    ith_cluster_vals = silhouette_vals_dp[labels_dp == i]\n",
        "    ith_cluster_vals.sort()\n",
        "    size_cluster_i = ith_cluster_vals.shape[0]\n",
        "    y_upper = y_lower + size_cluster_i\n",
        "\n",
        "    color = cm.nipy_spectral(float(i) / 3)\n",
        "    plt.fill_betweenx(np.arange(y_lower, y_upper), 0, ith_cluster_vals,\n",
        "                      facecolor=color, edgecolor=color, alpha=0.7)\n",
        "\n",
        "    plt.text(-0.05, y_lower + 0.5 * size_cluster_i, f\"Cluster {i}\")\n",
        "    y_lower = y_upper + 10\n",
        "\n",
        "plt.axvline(x=sil_score_dp, color=\"red\", linestyle=\"--\")\n",
        "plt.title(\"Silhouette Plot for DP KMeans (k=3)\")\n",
        "plt.xlabel(\"Silhouette coefficient values\")\n",
        "plt.ylabel(\"Cluster label\")\n",
        "plt.grid(True)\n",
        "plt.show()\n",
        "\n"
      ]
    },
    {
      "cell_type": "code",
      "execution_count": null,
      "metadata": {
        "id": "ij4PhReuBz87",
        "colab": {
          "base_uri": "https://localhost:8080/",
          "height": 210
        },
        "outputId": "6d62d853-1d96-47aa-e159-36f4c65d8252"
      },
      "outputs": [
        {
          "output_type": "execute_result",
          "data": {
            "text/plain": [
              "cluster_dp\n",
              "1    882\n",
              "0    756\n",
              "2     11\n",
              "Name: count, dtype: int64"
            ],
            "text/html": [
              "<div>\n",
              "<style scoped>\n",
              "    .dataframe tbody tr th:only-of-type {\n",
              "        vertical-align: middle;\n",
              "    }\n",
              "\n",
              "    .dataframe tbody tr th {\n",
              "        vertical-align: top;\n",
              "    }\n",
              "\n",
              "    .dataframe thead th {\n",
              "        text-align: right;\n",
              "    }\n",
              "</style>\n",
              "<table border=\"1\" class=\"dataframe\">\n",
              "  <thead>\n",
              "    <tr style=\"text-align: right;\">\n",
              "      <th></th>\n",
              "      <th>count</th>\n",
              "    </tr>\n",
              "    <tr>\n",
              "      <th>cluster_dp</th>\n",
              "      <th></th>\n",
              "    </tr>\n",
              "  </thead>\n",
              "  <tbody>\n",
              "    <tr>\n",
              "      <th>1</th>\n",
              "      <td>882</td>\n",
              "    </tr>\n",
              "    <tr>\n",
              "      <th>0</th>\n",
              "      <td>756</td>\n",
              "    </tr>\n",
              "    <tr>\n",
              "      <th>2</th>\n",
              "      <td>11</td>\n",
              "    </tr>\n",
              "  </tbody>\n",
              "</table>\n",
              "</div><br><label><b>dtype:</b> int64</label>"
            ]
          },
          "metadata": {},
          "execution_count": 172
        }
      ],
      "source": [
        "X_dp_with_clusters[\"cluster_dp\"].value_counts()"
      ]
    },
    {
      "cell_type": "markdown",
      "metadata": {
        "id": "i9w2KfqIH5zt"
      },
      "source": [
        "### Results discussion\n",
        "\n",
        "We compared KMeans clustering results between the original dataset and a version anonymized using Differential Privacy (DP) with `ε = 1.0`.\n",
        "\n",
        "| Metric                     | Original KMeans | DP KMeans (ε = 1.0) |\n",
        "|---------------------------|------------------|----------------------|\n",
        "| Silhouette Score          | 0.2113           | 0.2470               |\n",
        "| Cluster Sizes             | [642, 562, 445]  | [882, 758, 11]       |\n",
        "| PCA Cluster Separation    | Moderate         | Poor (one sparse group) |\n",
        "| Cohesion and Compactness  | Weak to moderate | Weak and unbalanced  |\n",
        "\n",
        "#### Key Observations\n",
        "\n",
        "- **Silhouette Score**: The differentially private clustering yielded a slightly higher silhouette score (0.2470) compared to the original (0.2113). However, this should be interpreted with caution, as the cluster distribution was significantly imbalanced, with only 11 samples assigned to one cluster.\n",
        "\n",
        "- **Cluster Balance**: The original clustering produced reasonably balanced groups, which is suitable for KMeans. In contrast, the DP-KMeans model led to an uneven distribution, with one cluster dominating the others. This suggests that the added noise affected the convergence and stability of the algorithm.\n",
        "\n",
        "- **Visual Analysis**: The PCA plots indicated that the original data exhibited moderately distinct cluster boundaries, whereas the DP-clustered data showed considerable overlap and reduced cluster separability. The sparsity of one cluster in the DP version was also visually evident.\n",
        "\n",
        "- **Interpretability and Practical Utility**: While the original clustering offered modest utility for downstream tasks, the differentially private clustering reduced interpretability due to high distortion. This limits its usefulness in scenarios where cluster structure is important.\n",
        "\n",
        "#### Conclusion\n",
        "\n",
        "Applying Differential Privacy with `ε = 1.0` introduced a notable degradation in clustering quality, particularly in terms of balance and cohesion. Although privacy guarantees were maintained, the utility of the resulting clusters was compromised. For unsupervised learning tasks that require meaningful groupings, alternative approaches—such as higher values of epsilon or workload-aware anonymization—may provide a more effective trade-off between privacy and utility.\n"
      ]
    }
  ],
  "metadata": {
    "application/vnd.databricks.v1+notebook": {
      "dashboards": [],
      "language": "python",
      "notebookName": "Group project resolution - template final",
      "notebookOrigID": 149761708232030,
      "widgets": {}
    },
    "colab": {
      "provenance": [],
      "include_colab_link": true
    },
    "kernelspec": {
      "display_name": "Python 3",
      "name": "python3"
    },
    "language_info": {
      "codemirror_mode": {
        "name": "ipython",
        "version": 3
      },
      "file_extension": ".py",
      "mimetype": "text/x-python",
      "name": "python",
      "nbconvert_exporter": "python",
      "pygments_lexer": "ipython3",
      "version": "3.10.6"
    }
  },
  "nbformat": 4,
  "nbformat_minor": 0
}